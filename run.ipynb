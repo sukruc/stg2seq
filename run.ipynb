{
  "cells": [
    {
      "cell_type": "code",
      "source": [
        "run run_stgcn.py"
      ],
      "outputs": [],
      "execution_count": null,
      "metadata": {
        "jupyter": {
          "source_hidden": false,
          "outputs_hidden": false
        },
        "nteract": {
          "transient": {
            "deleting": false
          }
        }
      }
    }
  ],
  "metadata": {},
  "nbformat": 4,
  "nbformat_minor": 0
}